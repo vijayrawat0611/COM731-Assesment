{
 "cells": [
  {
   "cell_type": "code",
   "execution_count": null,
   "id": "544b5805-85a1-49f7-a141-d7a96999430d",
   "metadata": {},
   "outputs": [],
   "source": [
    "# Define the 'menu' function that displays the main menu\n",
    "def menu():\n",
    "        print(\"\\t\\t WELCOME TO  LUNG CANCER ASSESMENT \")\n",
    "        print(\"\\n\\t\\t  (PRESS 1)   TO SEE CSV MODULE\")\n",
    "        print(\"\\t\\t  (PRESS 2)   TO SEE PANDAS MODULE\")\n",
    "        print(\"\\t\\t  (PRESS 3)   TO VISULAIZATION MODULE\")\n",
    "        print(\"\\t\\t  (PRESS 4)   TO EXIT \")\n",
    "    # Prompt the user to select an option by entering a number\n",
    "        user = int(input(\"Your selection: \"))\n",
    "        return user"
   ]
  }
 ],
 "metadata": {
  "kernelspec": {
   "display_name": "Python 3 (ipykernel)",
   "language": "python",
   "name": "python3"
  },
  "language_info": {
   "codemirror_mode": {
    "name": "ipython",
    "version": 3
   },
   "file_extension": ".py",
   "mimetype": "text/x-python",
   "name": "python",
   "nbconvert_exporter": "python",
   "pygments_lexer": "ipython3",
   "version": "3.12.4"
  }
 },
 "nbformat": 4,
 "nbformat_minor": 5
}
