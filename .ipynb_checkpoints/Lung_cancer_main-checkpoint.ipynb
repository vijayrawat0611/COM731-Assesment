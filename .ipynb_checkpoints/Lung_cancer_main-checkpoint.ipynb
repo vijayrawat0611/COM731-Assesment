{
 "cells": [
  {
   "cell_type": "code",
   "execution_count": 3,
   "id": "a5ccac06-0245-435f-b3a7-e34158b7d0d7",
   "metadata": {},
   "outputs": [
    {
     "ename": "ModuleNotFoundError",
     "evalue": "No module named 'csv_module'",
     "output_type": "error",
     "traceback": [
      "\u001b[1;31m---------------------------------------------------------------------------\u001b[0m",
      "\u001b[1;31mModuleNotFoundError\u001b[0m                       Traceback (most recent call last)",
      "Cell \u001b[1;32mIn[3], line 4\u001b[0m\n\u001b[0;32m      1\u001b[0m \u001b[38;5;28;01mimport\u001b[39;00m \u001b[38;5;21;01mcsv\u001b[39;00m\n\u001b[0;32m      2\u001b[0m \u001b[38;5;28;01mimport\u001b[39;00m \u001b[38;5;21;01mpandas\u001b[39;00m \u001b[38;5;28;01mas\u001b[39;00m \u001b[38;5;21;01mpd\u001b[39;00m\n\u001b[1;32m----> 4\u001b[0m \u001b[38;5;28;01mfrom\u001b[39;00m \u001b[38;5;21;01mcsv_module\u001b[39;00m \u001b[38;5;28;01mimport\u001b[39;00m demographic_info\n\u001b[0;32m      5\u001b[0m \u001b[38;5;28;01mfrom\u001b[39;00m   \u001b[38;5;21;01mpandas_module\u001b[39;00m \u001b[38;5;28;01mimport\u001b[39;00m dataframe\n\u001b[0;32m      6\u001b[0m \u001b[38;5;28;01mfrom\u001b[39;00m   \u001b[38;5;21;01mmatplotlib_module\u001b[39;00m \u001b[38;5;28;01mimport\u001b[39;00m visualization\n",
      "\u001b[1;31mModuleNotFoundError\u001b[0m: No module named 'csv_module'"
     ]
    }
   ],
   "source": [
    "import csv\n",
    "import pandas as pd\n",
    "\n",
    "from csv_module import demographic_info\n",
    "from   pandas_module import dataframe\n",
    "from   matplotlib_module import visualization\n",
    "\n",
    "if __name__ == '__main__':\n",
    "    print(\"Welcome to Assesment 2 \")\n",
    "    print(\" press 1 Retrieve demographic information\")\n",
    "    print(\"press 2  to see import module\")\n",
    "    print(\"press 3  to see visualization module\")\n",
    "\n",
    "    user = int(input(\"Which details y3ou want to see\"))\n",
    "    if user == 1:\n",
    "        demographic_info(user)\n",
    "\n",
    "    elif user == 2:\n",
    "        dataframe()\n",
    "    elif user == 3:\n",
    "        visualization()"
   ]
  },
  {
   "cell_type": "code",
   "execution_count": null,
   "id": "de221402-dda3-4515-9d9e-8f247584b53d",
   "metadata": {},
   "outputs": [],
   "source": []
  }
 ],
 "metadata": {
  "kernelspec": {
   "display_name": "Python 3 (ipykernel)",
   "language": "python",
   "name": "python3"
  },
  "language_info": {
   "codemirror_mode": {
    "name": "ipython",
    "version": 3
   },
   "file_extension": ".py",
   "mimetype": "text/x-python",
   "name": "python",
   "nbconvert_exporter": "python",
   "pygments_lexer": "ipython3",
   "version": "3.12.4"
  }
 },
 "nbformat": 4,
 "nbformat_minor": 5
}
