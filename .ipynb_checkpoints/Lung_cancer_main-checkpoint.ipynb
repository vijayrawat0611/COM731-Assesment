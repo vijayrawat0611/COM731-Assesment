{
 "cells": [
  {
   "cell_type": "code",
   "execution_count": 24,
   "id": "9a9a21df-eaf7-4845-9069-78bf390cafbd",
   "metadata": {},
   "outputs": [
    {
     "name": "stdout",
     "output_type": "stream",
     "text": [
      "\t\t WELCOME TO  LUNG CANCER ASSESMENT \n",
      "\n",
      "\t\t  (PRESS 1)   TO SEE CSV MODULE\n",
      "\t\t  (PRESS 2)   TO SEE PANDAS MODULE\n",
      "\t\t  (PRESS 3)   TO VISULAIZATION MODULE\n",
      "\t\t  (PRESS 4)   TO EXIT \n"
     ]
    },
    {
     "name": "stdin",
     "output_type": "stream",
     "text": [
      "Your selection:  4\n"
     ]
    },
    {
     "name": "stdout",
     "output_type": "stream",
     "text": [
      "thank you for coming\n"
     ]
    }
   ],
   "source": [
    "import csv\n",
    "import pandas as pd\n",
    "\n",
    "#module to perform csv related operation details \n",
    "import csv_moodule \n",
    "#module to perform data frame operation\n",
    "import  paandas_module \n",
    "#module to perform data visualization operation\n",
    "import  matplotlib_moddule \n",
    "#user interface option \n",
    "import main_menu\n",
    "\n",
    "try:\n",
    "    # function that use while loop\n",
    "    def perform():\n",
    "        while True:\n",
    "            user = main_menu.menu()\n",
    "            if user == 1:\n",
    "                csv_moodule.demographic_info(user)\n",
    "            elif user == 2:\n",
    "                paandas_module.dataframe()\n",
    "            elif user == 3:\n",
    "                matplotlib_moddule.visualization()\n",
    "            elif user == 4:\n",
    "                print(\"Thank you.....................\")\n",
    "                break\n",
    "            else:\n",
    "                print(\"option is not available please choose from following option\")\n",
    "                # the entry point     \n",
    "    if __name__ == \"__main__\":\n",
    "        perform()\n",
    "\n",
    "except Exception as e:\n",
    "    print(f\"An error occurred: {e}\")\n",
    "\n",
    "\n",
    "\n",
    "\n",
    "    \n",
    "\n",
    "\n",
    "\n",
    "\n",
    "\n",
    "\n",
    "\n",
    "\n",
    "\n",
    "\n",
    "    "
   ]
  },
  {
   "cell_type": "code",
   "execution_count": null,
   "id": "de221402-dda3-4515-9d9e-8f247584b53d",
   "metadata": {},
   "outputs": [],
   "source": []
  },
  {
   "cell_type": "code",
   "execution_count": null,
   "id": "47dcbe33-e768-4939-a0fb-ce7ec8a767e9",
   "metadata": {},
   "outputs": [],
   "source": []
  }
 ],
 "metadata": {
  "kernelspec": {
   "display_name": "Python 3 (ipykernel)",
   "language": "python",
   "name": "python3"
  },
  "language_info": {
   "codemirror_mode": {
    "name": "ipython",
    "version": 3
   },
   "file_extension": ".py",
   "mimetype": "text/x-python",
   "name": "python",
   "nbconvert_exporter": "python",
   "pygments_lexer": "ipython3",
   "version": "3.12.4"
  }
 },
 "nbformat": 4,
 "nbformat_minor": 5
}
