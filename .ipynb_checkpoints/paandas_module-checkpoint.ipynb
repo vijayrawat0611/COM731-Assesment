{
 "cells": [
  {
   "cell_type": "code",
   "execution_count": 1,
   "id": "bc98c65d-389b-4dfb-b785-351203ddfb83",
   "metadata": {},
   "outputs": [],
   "source": [
    "\n",
    "import pandas as pd\n",
    "\n",
    "file_name = 'lung_cancer_data (2).csv'\n",
    "grade_df = pd.read_csv(file_name)\n",
    "def dataframe():\n",
    "    \n",
    "    print(\"press 1 for  top 3 treatments for a certain ethnicity\")\n",
    "    print(\"press 2 for   average white blood cell counts for certain treatments\")\n",
    "    print(\"press 3 for   smoking packs for patients in each treatment group\")\n",
    "    print(\"press 4 for   smoking packs for patients in each treatment group\")\n",
    "    response = int(input(\"select from any of three \"))\n",
    "    if response == 1:\n",
    "       \n",
    "        row = grade_df.loc[(grade_df.Survival_Months > 100) | (grade_df.Ethnicity == 'Asian'),['Treatment',]]\n",
    "        transaction_weekday = row['Treatment'].value_counts(ascending= False)\n",
    "        print(transaction_weekday[:3])\n",
    "\n",
    "    elif response == 2:\n",
    "        averageg_price = grade_df.groupby(['Ethnicity','Treatment']).White_Blood_Cell_Count.mean()\n",
    "        print(f\" the mean price {averageg_price}\")\n",
    "        \n",
    "    elif response == 3:\n",
    "        data=grade_df.loc[(grade_df.Blood_Pressure_Pulse > 90 ) & (grade_df.Tumor_Size_mm < 15),:]\n",
    "        row = grade_df.groupby(['Treatment','Tumor_Location']).Smoking_Pack_Years.mean()\n",
    "        print(row)\n",
    "\n",
    "    elif response == 4:\n",
    "         data=grade_df.loc[(grade_df.White_Blood_Cell_Count  > 9 ),:]\n",
    "         row=grade_df.groupby(['Smoking_History','Stage']).Survival_Months.mean()\n",
    "         print(row)\n",
    "        \n",
    "\n",
    "\n"
   ]
  },
  {
   "cell_type": "code",
   "execution_count": null,
   "id": "ed67ee4b-2cf8-4815-bae3-0bdd469518d6",
   "metadata": {},
   "outputs": [],
   "source": []
  }
 ],
 "metadata": {
  "kernelspec": {
   "display_name": "Python 3 (ipykernel)",
   "language": "python",
   "name": "python3"
  },
  "language_info": {
   "codemirror_mode": {
    "name": "ipython",
    "version": 3
   },
   "file_extension": ".py",
   "mimetype": "text/x-python",
   "name": "python",
   "nbconvert_exporter": "python",
   "pygments_lexer": "ipython3",
   "version": "3.12.4"
  }
 },
 "nbformat": 4,
 "nbformat_minor": 5
}
